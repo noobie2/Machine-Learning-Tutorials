{
 "cells": [
  {
   "cell_type": "code",
   "execution_count": 47,
   "metadata": {},
   "outputs": [],
   "source": [
    "import pandas as pd\n",
    "from sklearn import datasets, linear_model"
   ]
  },
  {
   "cell_type": "code",
   "execution_count": 48,
   "metadata": {},
   "outputs": [],
   "source": [
    "data = datasets.load_diabetes()"
   ]
  },
  {
   "cell_type": "code",
   "execution_count": 49,
   "metadata": {},
   "outputs": [],
   "source": [
    "feat = pd.DataFrame(data.data, columns=data.feature_names)\n",
    "targ = pd.DataFrame(data.target)"
   ]
  },
  {
   "cell_type": "code",
   "execution_count": 50,
   "metadata": {},
   "outputs": [],
   "source": [
    "lm=linear_model.LinearRegression().fit(feat,targ)"
   ]
  },
  {
   "cell_type": "code",
   "execution_count": 51,
   "metadata": {},
   "outputs": [
    {
     "name": "stdout",
     "output_type": "stream",
     "text": [
      "[[206.11706979]\n",
      " [ 68.07234761]\n",
      " [176.88406035]\n",
      " [166.91796559]\n",
      " [128.45984241]\n",
      " [106.34908972]]\n"
     ]
    }
   ],
   "source": [
    "pred2=lm.predict(feat)\n",
    "print(pred2[0:6])"
   ]
  },
  {
   "cell_type": "code",
   "execution_count": 52,
   "metadata": {},
   "outputs": [
    {
     "data": {
      "text/plain": [
       "0.5177494254132934"
      ]
     },
     "execution_count": 52,
     "metadata": {},
     "output_type": "execute_result"
    }
   ],
   "source": [
    "lm.score(feat,targ)"
   ]
  },
  {
   "cell_type": "code",
   "execution_count": 53,
   "metadata": {},
   "outputs": [
    {
     "name": "stdout",
     "output_type": "stream",
     "text": [
      "       0\n",
      "0  151.0\n",
      "1   75.0\n",
      "2  141.0\n",
      "3  206.0\n",
      "4  135.0\n",
      "5   97.0\n"
     ]
    }
   ],
   "source": [
    "print(targ[0:6])"
   ]
  },
  {
   "cell_type": "code",
   "execution_count": 54,
   "metadata": {},
   "outputs": [],
   "source": [
    "import statsmodels.api as sm"
   ]
  },
  {
   "cell_type": "code",
   "execution_count": 55,
   "metadata": {},
   "outputs": [],
   "source": [
    "model = sm.OLS(targ,feat).fit()"
   ]
  },
  {
   "cell_type": "code",
   "execution_count": 56,
   "metadata": {},
   "outputs": [],
   "source": [
    "pred = model.predict(feat)"
   ]
  },
  {
   "cell_type": "code",
   "execution_count": 57,
   "metadata": {},
   "outputs": [
    {
     "data": {
      "text/html": [
       "<table class=\"simpletable\">\n",
       "<caption>OLS Regression Results</caption>\n",
       "<tr>\n",
       "  <th>Dep. Variable:</th>            <td>0</td>        <th>  R-squared:         </th> <td>   0.106</td>\n",
       "</tr>\n",
       "<tr>\n",
       "  <th>Model:</th>                   <td>OLS</td>       <th>  Adj. R-squared:    </th> <td>   0.085</td>\n",
       "</tr>\n",
       "<tr>\n",
       "  <th>Method:</th>             <td>Least Squares</td>  <th>  F-statistic:       </th> <td>   5.100</td>\n",
       "</tr>\n",
       "<tr>\n",
       "  <th>Date:</th>             <td>Mon, 18 Feb 2019</td> <th>  Prob (F-statistic):</th> <td>4.72e-07</td>\n",
       "</tr>\n",
       "<tr>\n",
       "  <th>Time:</th>                 <td>12:34:56</td>     <th>  Log-Likelihood:    </th> <td> -2873.9</td>\n",
       "</tr>\n",
       "<tr>\n",
       "  <th>No. Observations:</th>      <td>   442</td>      <th>  AIC:               </th> <td>   5768.</td>\n",
       "</tr>\n",
       "<tr>\n",
       "  <th>Df Residuals:</th>          <td>   432</td>      <th>  BIC:               </th> <td>   5809.</td>\n",
       "</tr>\n",
       "<tr>\n",
       "  <th>Df Model:</th>              <td>    10</td>      <th>                     </th>     <td> </td>   \n",
       "</tr>\n",
       "<tr>\n",
       "  <th>Covariance Type:</th>      <td>nonrobust</td>    <th>                     </th>     <td> </td>   \n",
       "</tr>\n",
       "</table>\n",
       "<table class=\"simpletable\">\n",
       "<tr>\n",
       "   <td></td>      <th>coef</th>     <th>std err</th>      <th>t</th>      <th>P>|t|</th>  <th>[0.025</th>    <th>0.975]</th>  \n",
       "</tr>\n",
       "<tr>\n",
       "  <th>age</th> <td>  -10.0122</td> <td>  179.967</td> <td>   -0.056</td> <td> 0.956</td> <td> -363.731</td> <td>  343.707</td>\n",
       "</tr>\n",
       "<tr>\n",
       "  <th>sex</th> <td> -239.8191</td> <td>  184.404</td> <td>   -1.301</td> <td> 0.194</td> <td> -602.259</td> <td>  122.621</td>\n",
       "</tr>\n",
       "<tr>\n",
       "  <th>bmi</th> <td>  519.8398</td> <td>  200.401</td> <td>    2.594</td> <td> 0.010</td> <td>  125.957</td> <td>  913.723</td>\n",
       "</tr>\n",
       "<tr>\n",
       "  <th>bp</th>  <td>  324.3904</td> <td>  197.053</td> <td>    1.646</td> <td> 0.100</td> <td>  -62.912</td> <td>  711.692</td>\n",
       "</tr>\n",
       "<tr>\n",
       "  <th>s1</th>  <td> -792.1842</td> <td> 1255.066</td> <td>   -0.631</td> <td> 0.528</td> <td>-3258.979</td> <td> 1674.611</td>\n",
       "</tr>\n",
       "<tr>\n",
       "  <th>s2</th>  <td>  476.7458</td> <td> 1021.183</td> <td>    0.467</td> <td> 0.641</td> <td>-1530.360</td> <td> 2483.851</td>\n",
       "</tr>\n",
       "<tr>\n",
       "  <th>s3</th>  <td>  101.0446</td> <td>  640.155</td> <td>    0.158</td> <td> 0.875</td> <td>-1157.162</td> <td> 1359.251</td>\n",
       "</tr>\n",
       "<tr>\n",
       "  <th>s4</th>  <td>  177.0642</td> <td>  486.370</td> <td>    0.364</td> <td> 0.716</td> <td> -778.882</td> <td> 1133.010</td>\n",
       "</tr>\n",
       "<tr>\n",
       "  <th>s5</th>  <td>  751.2793</td> <td>  517.774</td> <td>    1.451</td> <td> 0.148</td> <td> -266.391</td> <td> 1768.950</td>\n",
       "</tr>\n",
       "<tr>\n",
       "  <th>s6</th>  <td>   67.6254</td> <td>  198.747</td> <td>    0.340</td> <td> 0.734</td> <td> -323.005</td> <td>  458.256</td>\n",
       "</tr>\n",
       "</table>\n",
       "<table class=\"simpletable\">\n",
       "<tr>\n",
       "  <th>Omnibus:</th>       <td> 1.506</td> <th>  Durbin-Watson:     </th> <td>   0.223</td>\n",
       "</tr>\n",
       "<tr>\n",
       "  <th>Prob(Omnibus):</th> <td> 0.471</td> <th>  Jarque-Bera (JB):  </th> <td>   1.404</td>\n",
       "</tr>\n",
       "<tr>\n",
       "  <th>Skew:</th>          <td> 0.017</td> <th>  Prob(JB):          </th> <td>   0.496</td>\n",
       "</tr>\n",
       "<tr>\n",
       "  <th>Kurtosis:</th>      <td> 2.726</td> <th>  Cond. No.          </th> <td>    21.7</td>\n",
       "</tr>\n",
       "</table><br/><br/>Warnings:<br/>[1] Standard Errors assume that the covariance matrix of the errors is correctly specified."
      ],
      "text/plain": [
       "<class 'statsmodels.iolib.summary.Summary'>\n",
       "\"\"\"\n",
       "                            OLS Regression Results                            \n",
       "==============================================================================\n",
       "Dep. Variable:                      0   R-squared:                       0.106\n",
       "Model:                            OLS   Adj. R-squared:                  0.085\n",
       "Method:                 Least Squares   F-statistic:                     5.100\n",
       "Date:                Mon, 18 Feb 2019   Prob (F-statistic):           4.72e-07\n",
       "Time:                        12:34:56   Log-Likelihood:                -2873.9\n",
       "No. Observations:                 442   AIC:                             5768.\n",
       "Df Residuals:                     432   BIC:                             5809.\n",
       "Df Model:                          10                                         \n",
       "Covariance Type:            nonrobust                                         \n",
       "==============================================================================\n",
       "                 coef    std err          t      P>|t|      [0.025      0.975]\n",
       "------------------------------------------------------------------------------\n",
       "age          -10.0122    179.967     -0.056      0.956    -363.731     343.707\n",
       "sex         -239.8191    184.404     -1.301      0.194    -602.259     122.621\n",
       "bmi          519.8398    200.401      2.594      0.010     125.957     913.723\n",
       "bp           324.3904    197.053      1.646      0.100     -62.912     711.692\n",
       "s1          -792.1842   1255.066     -0.631      0.528   -3258.979    1674.611\n",
       "s2           476.7458   1021.183      0.467      0.641   -1530.360    2483.851\n",
       "s3           101.0446    640.155      0.158      0.875   -1157.162    1359.251\n",
       "s4           177.0642    486.370      0.364      0.716    -778.882    1133.010\n",
       "s5           751.2793    517.774      1.451      0.148    -266.391    1768.950\n",
       "s6            67.6254    198.747      0.340      0.734    -323.005     458.256\n",
       "==============================================================================\n",
       "Omnibus:                        1.506   Durbin-Watson:                   0.223\n",
       "Prob(Omnibus):                  0.471   Jarque-Bera (JB):                1.404\n",
       "Skew:                           0.017   Prob(JB):                        0.496\n",
       "Kurtosis:                       2.726   Cond. No.                         21.7\n",
       "==============================================================================\n",
       "\n",
       "Warnings:\n",
       "[1] Standard Errors assume that the covariance matrix of the errors is correctly specified.\n",
       "\"\"\""
      ]
     },
     "execution_count": 57,
     "metadata": {},
     "output_type": "execute_result"
    }
   ],
   "source": [
    "model.summary()"
   ]
  }
 ],
 "metadata": {
  "kernelspec": {
   "display_name": "Python 3",
   "language": "python",
   "name": "python3"
  },
  "language_info": {
   "codemirror_mode": {
    "name": "ipython",
    "version": 3
   },
   "file_extension": ".py",
   "mimetype": "text/x-python",
   "name": "python",
   "nbconvert_exporter": "python",
   "pygments_lexer": "ipython3",
   "version": "3.7.1"
  }
 },
 "nbformat": 4,
 "nbformat_minor": 2
}
